{
 "cells": [
  {
   "cell_type": "markdown",
   "id": "8dff2437",
   "metadata": {},
   "source": [
    "## Markov Decision Process"
   ]
  },
  {
   "cell_type": "code",
   "execution_count": 1,
   "id": "d40b3d94",
   "metadata": {},
   "outputs": [],
   "source": [
    "# Import Libraries\n",
    "import numpy as np\n",
    "from scipy.optimize import optimize"
   ]
  },
  {
   "cell_type": "code",
   "execution_count": 2,
   "id": "22aa8658",
   "metadata": {},
   "outputs": [],
   "source": [
    "# Define the MDP parameters\n",
    "N = 12 # Time periods\n",
    "S = 5 # Number of states\n",
    "A = 3 # Number of actions\n",
    "gamma = 1 # Discount factor"
   ]
  },
  {
   "cell_type": "code",
   "execution_count": 3,
   "id": "b1e2ef98",
   "metadata": {},
   "outputs": [],
   "source": [
    "# Define transition probabilities\n",
    "P = np.random.rand(S, A, S) # Random transition probabilities\n",
    "\n",
    "# Define reward function\n",
    "# Expected revenue for action a in state s\n",
    "R = np.random.rand(S, A) # Random rewards (should be based on data)\n",
    "\n",
    "# Define the value function and policy\n",
    "V = np.zeros((N+1, S)) # Value function\n",
    "policy = np.zeros((N, S), dtype=int) # Policy (action for each state at each time step)"
   ]
  },
  {
   "cell_type": "code",
   "execution_count": 4,
   "id": "92e24465",
   "metadata": {},
   "outputs": [
    {
     "name": "stdout",
     "output_type": "stream",
     "text": [
      "Optimal Value Function\n",
      "[[0 0 1 0 1]\n",
      " [0 0 1 0 1]\n",
      " [0 0 1 0 1]\n",
      " [0 0 1 0 1]\n",
      " [0 0 1 0 1]\n",
      " [0 0 1 0 1]\n",
      " [0 0 1 0 1]\n",
      " [0 0 1 0 1]\n",
      " [0 0 1 0 1]\n",
      " [0 0 1 2 1]\n",
      " [0 0 1 2 1]\n",
      " [0 0 2 2 1]]\n"
     ]
    }
   ],
   "source": [
    "# Dynamic Programming Algorithm to Solve the MDP\n",
    "for t in range(N-1, -1, -1):\n",
    "  for s in range(S):\n",
    "    Q = np.zeros(A) # Action-value function\n",
    "    for a in range(A):\n",
    "      Q[a] = R[s, a] + gamma * np.sum(P[s, a, :] * V[t+1, :])\n",
    "    V[t, s] = np.max(Q)\n",
    "    policy[t, s] = np.argmax(Q)\n",
    "\n",
    "# Print the optimal value function and policy\n",
    "print(\"Optimal Value Function\")\n",
    "print(policy)"
   ]
  }
 ],
 "metadata": {
  "kernelspec": {
   "display_name": "venv",
   "language": "python",
   "name": "python3"
  },
  "language_info": {
   "codemirror_mode": {
    "name": "ipython",
    "version": 3
   },
   "file_extension": ".py",
   "mimetype": "text/x-python",
   "name": "python",
   "nbconvert_exporter": "python",
   "pygments_lexer": "ipython3",
   "version": "3.10.5"
  }
 },
 "nbformat": 4,
 "nbformat_minor": 5
}
